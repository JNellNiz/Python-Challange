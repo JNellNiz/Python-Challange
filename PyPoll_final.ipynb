{
 "cells": [
  {
   "cell_type": "code",
   "execution_count": null,
   "metadata": {},
   "outputs": [],
   "source": [
    "# PyPoll Instructions\n",
    "\n",
    "# In this Challenge, you are tasked with helping a small, rural town modernize its vote-counting process.\n",
    "\n",
    "# You will be given a set of poll data called election_data.csv. \n",
    "#The dataset is composed of three columns: \"Voter ID\", \"County\", and \"Candidate\". \n",
    "#Your task is to create a Python script that analyzes the votes and calculates each of the following values:\n",
    "\n",
    "# The total number of votes cast\n",
    "\n",
    "# A complete list of candidates who received votes\n",
    "\n",
    "# The percentage of votes each candidate won\n",
    "\n",
    "# The total number of votes each candidate won\n",
    "\n",
    "# The winner of the election based on popular vote\n",
    "\n",
    "\n",
    "# Your analysis should align with the following results:\n",
    "    \n",
    "    \n",
    "# Election Results\n",
    "# -------------------------\n",
    "# Total Votes: 369711\n",
    "# -------------------------\n",
    "# Charles Casper Stockham: 23.049% (85213)\n",
    "# Diana DeGette: 73.812% (272892)\n",
    "# Raymon Anthony Doane: 3.139% (11606)\n",
    "# -------------------------\n",
    "# Winner: Diana DeGette\n",
    "# -------------------------"
   ]
  },
  {
   "cell_type": "code",
   "execution_count": 46,
   "id": "8780d8ec",
   "metadata": {},
   "outputs": [
    {
     "name": "stdout",
     "output_type": "stream",
     "text": [
      "/Users/jnellniz/Desktop/Module3_Python-Challenge\n"
     ]
    }
   ],
   "source": [
    "cd '/Users/jnellniz/Desktop/Module3_Python-Challenge/'"
   ]
  },
  {
   "cell_type": "code",
   "execution_count": 47,
   "id": "b07e36ef",
   "metadata": {},
   "outputs": [
    {
     "data": {
      "text/plain": [
       "'/Users/jnellniz/Desktop/Module3_Python-Challenge'"
      ]
     },
     "execution_count": 47,
     "metadata": {},
     "output_type": "execute_result"
    }
   ],
   "source": [
    "%pwd"
   ]
  },
  {
   "cell_type": "code",
   "execution_count": 48,
   "id": "5c887ff6",
   "metadata": {},
   "outputs": [],
   "source": [
    "import os\n",
    "import csv\n",
    "\n",
    "pypoll_path = os.path.join(\"election_data.csv\")"
   ]
  },
  {
   "cell_type": "code",
   "execution_count": 49,
   "id": "c9e2f8c4",
   "metadata": {},
   "outputs": [
    {
     "data": {
      "text/plain": [
       "'election_data.csv'"
      ]
     },
     "execution_count": 49,
     "metadata": {},
     "output_type": "execute_result"
    }
   ],
   "source": [
    "pypoll_path"
   ]
  },
  {
   "cell_type": "code",
   "execution_count": 62,
   "id": "b46468f2",
   "metadata": {},
   "outputs": [
    {
     "name": "stdout",
     "output_type": "stream",
     "text": [
      "Total number of votes cast: 369711\n"
     ]
    }
   ],
   "source": [
    "with open(pypoll_path) as csvfile:\n",
    "\n",
    "    csvreader = csv.reader(csvfile, delimiter=',')\n",
    "    \n",
    "    csv_header = next(csvreader)\n",
    "            # Read all lines and count the number of rows\n",
    "    row_count = len(csvfile.readlines())\n",
    "\n",
    "    print(\"Total number of votes cast: \" + str(row_count))"
   ]
  },
  {
   "cell_type": "code",
   "execution_count": 39,
   "id": "233e2481",
   "metadata": {},
   "outputs": [
    {
     "name": "stdout",
     "output_type": "stream",
     "text": [
      "{'Raymon Anthony Doane', 'Diana DeGette', 'Charles Casper Stockham'}\n"
     ]
    }
   ],
   "source": [
    "# A complete list of candidates who received votes\n",
    "\n",
    "with open(pypoll_path) as csvfile:\n",
    "\n",
    "    csvreader = csv.reader(csvfile, delimiter=',')\n",
    "    \n",
    "    csv_header = next(csvreader)\n",
    "\n",
    "can_list = set(candidate)\n",
    "\n",
    "print(can_list)"
   ]
  },
  {
   "cell_type": "code",
   "execution_count": 88,
   "id": "b4316b7e",
   "metadata": {},
   "outputs": [
    {
     "name": "stdout",
     "output_type": "stream",
     "text": [
      "11606 272892 85213\n"
     ]
    }
   ],
   "source": [
    "# The percentage of votes each candidate won\n",
    "#part1\n",
    "\n",
    "can_count_one = candidate.count(\"Raymon Anthony Doane\")\n",
    "\n",
    "can_count_two = candidate.count(\"Diana DeGette\")\n",
    "\n",
    "can_count_three = candidate.count(\"Charles Casper Stockham\")\n",
    "\n",
    "print(can_count_one,\n",
    "      can_count_two,\n",
    "      can_count_three)\n"
   ]
  },
  {
   "cell_type": "code",
   "execution_count": 93,
   "id": "e14dea13",
   "metadata": {},
   "outputs": [
    {
     "name": "stdout",
     "output_type": "stream",
     "text": [
      "%3.139\n",
      "%73.812\n",
      "%23.049\n"
     ]
    }
   ],
   "source": [
    "# The percentage of votes each candidate won\n",
    "#part2\n",
    "\n",
    "can_one_percentage = (can_count_one/row_count) * 100\n",
    "\n",
    "can_two_percentage = (can_count_two/row_count) * 100\n",
    "\n",
    "can_three_percentage = (can_count_three/row_count) * 100\n",
    "\n",
    "r_can_one_percentage = round(can_one_percentage, 3)\n",
    "\n",
    "r_can_two_percentage = round(can_two_percentage, 3)\n",
    "\n",
    "r_can_three_percentage = round(can_three_percentage, 3)\n",
    "\n",
    "print(\"%\" + str(r_can_one_percentage))\n",
    "print(\"%\" + str(r_can_two_percentage))\n",
    "print(\"%\" + str(r_can_three_percentage))"
   ]
  },
  {
   "cell_type": "code",
   "execution_count": 94,
   "id": "d8042c70",
   "metadata": {},
   "outputs": [
    {
     "name": "stdout",
     "output_type": "stream",
     "text": [
      "11606 272892 85213\n"
     ]
    }
   ],
   "source": [
    "# The total number of votes each candidate won\n",
    "\n",
    "print(can_count_one,\n",
    "      can_count_two,\n",
    "      can_count_three)"
   ]
  },
  {
   "cell_type": "code",
   "execution_count": 95,
   "id": "ad1c9b16",
   "metadata": {},
   "outputs": [
    {
     "name": "stdout",
     "output_type": "stream",
     "text": [
      "[11606, 272892, 85213]\n"
     ]
    }
   ],
   "source": [
    "total = [can_count_one,\n",
    "      can_count_two,\n",
    "      can_count_three]\n",
    "\n",
    "print(total)"
   ]
  },
  {
   "cell_type": "code",
   "execution_count": 96,
   "id": "8a202fc3",
   "metadata": {},
   "outputs": [
    {
     "name": "stdout",
     "output_type": "stream",
     "text": [
      "272892\n"
     ]
    }
   ],
   "source": [
    "# The winner of the election based on popular vote\n",
    "\n",
    "winner = greatest = max(total)\n",
    "\n",
    "print(winner)"
   ]
  },
  {
   "cell_type": "code",
   "execution_count": 105,
   "id": "3fa6652b",
   "metadata": {},
   "outputs": [
    {
     "name": "stdout",
     "output_type": "stream",
     "text": [
      "Total number of votes cast: 369711\n",
      "A complete list of candidates who received votes: {'Raymon Anthony Doane', 'Diana DeGette', 'Charles Casper Stockham'}\n",
      "Candidates Percentages - \n",
      "Raymon Anthony Doane: %3.139\n",
      "Diana DeGette: %73.812\n",
      "Charles Casper Stockham: %23.049\n",
      "Candidates Votes - \n",
      "Raymon Anthony Doane: 11606\n",
      "Diana DeGette: 272892\n",
      "Charles Casper Stockham: 85213\n",
      "The winner is Diana DeGette, with 272892 votes!\n"
     ]
    }
   ],
   "source": [
    "# The total number of votes cast\n",
    "\n",
    "print(\"Total number of votes cast: \" + str(row_count))\n",
    "\n",
    "# A complete list of candidates who received votes\n",
    "\n",
    "print(\"A complete list of candidates who received votes: \" + str(can_list))\n",
    "\n",
    "# The percentage of votes each candidate won\n",
    "\n",
    "print(\"Candidates Percentages - \")\n",
    "print(\"Raymon Anthony Doane: \" + \"%\" + str(r_can_one_percentage))\n",
    "print(\"Diana DeGette: \" + \"%\" + str(r_can_two_percentage))\n",
    "print(\"Charles Casper Stockham: \" + \"%\" + str(r_can_three_percentage))\n",
    "\n",
    "\n",
    "# The total number of votes each candidate won\n",
    "\n",
    "print(\"Candidates Votes - \")\n",
    "print(\"Raymon Anthony Doane: \" + str(can_count_one))\n",
    "print(\"Diana DeGette: \" + str(can_count_two))\n",
    "print(\"Charles Casper Stockham: \" + str(can_count_three))\n",
    "\n",
    "\n",
    "# The winner of the election based on popular vote\n",
    "\n",
    "print(\"The winner is Diana DeGette, with \" + str(winner) + \" votes!\")\n"
   ]
  },
  {
   "cell_type": "code",
   "execution_count": null,
   "id": "96e990d1",
   "metadata": {},
   "outputs": [],
   "source": []
  }
 ],
 "metadata": {
  "kernelspec": {
   "display_name": "Python 3",
   "language": "python",
   "name": "python3"
  },
  "language_info": {
   "codemirror_mode": {
    "name": "ipython",
    "version": 3
   },
   "file_extension": ".py",
   "mimetype": "text/x-python",
   "name": "python",
   "nbconvert_exporter": "python",
   "pygments_lexer": "ipython3",
   "version": "3.11.5"
  }
 },
 "nbformat": 4,
 "nbformat_minor": 5
}
