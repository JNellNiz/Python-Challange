{
 "cells": [
  {
   "cell_type": "code",
   "execution_count": 3,
   "id": "2428f06b",
   "metadata": {},
   "outputs": [],
   "source": [
    "#Your task is to create a Python script that analyzes the records to calculate each of the following values:\n",
    "\n",
    "#The total number of months included in the dataset\n",
    "\n",
    "#The net total amount of \"Profit/Losses\" over the entire period\n",
    "\n",
    "#The changes in \"Profit/Losses\" over the entire period, and then the average of those changes\n",
    "\n",
    "#The greatest increase in profits (date and amount) over the entire period\n",
    "\n",
    "#The greatest decrease in profits (date and amount) over the entire period\n",
    "\n",
    "\n",
    "#Financial Analysis\n",
    "#----------------------------\n",
    "#Total Months: 86\n",
    "#Total: $22564198\n",
    "#Average Change: $-8311.11\n",
    "#Greatest Increase in Profits: Aug-16 ($1862002)\n",
    "#Greatest Decrease in Profits: Feb-14 ($-1825558)"
   ]
  },
  {
   "cell_type": "code",
   "execution_count": 4,
   "id": "4d12bb21",
   "metadata": {},
   "outputs": [
    {
     "name": "stdout",
     "output_type": "stream",
     "text": [
      "/Users/jnellniz/Desktop/Module 3/Module3ChallangeFiles/Starter_Code/PyBank/Resources\n"
     ]
    }
   ],
   "source": [
    "cd /Users/jnellniz/Desktop/Module 3/Module3ChallangeFiles/Starter_Code/PyBank/Resources"
   ]
  },
  {
   "cell_type": "code",
   "execution_count": 5,
   "id": "40cbe09a",
   "metadata": {},
   "outputs": [],
   "source": [
    "import os\n",
    "import csv\n",
    "\n",
    "pybank_path = os.path.join(\"budget_data.csv\")"
   ]
  },
  {
   "cell_type": "code",
   "execution_count": 6,
   "id": "9f88ecb9",
   "metadata": {},
   "outputs": [
    {
     "data": {
      "text/plain": [
       "'budget_data.csv'"
      ]
     },
     "execution_count": 6,
     "metadata": {},
     "output_type": "execute_result"
    }
   ],
   "source": [
    "pybank_path"
   ]
  },
  {
   "cell_type": "code",
   "execution_count": 7,
   "id": "05e5b6a0",
   "metadata": {},
   "outputs": [],
   "source": [
    "date = []\n",
    "pl = []\n",
    "\n",
    "\n",
    "with open(pybank_path) as csvfile:\n",
    "\n",
    "    csvreader = csv.reader(csvfile, delimiter=',')\n",
    "    \n",
    "    csv_header = next(csvreader)\n",
    "\n",
    "    for row in csvreader:\n",
    "\n",
    "        date.append(row[0])\n",
    "        pl.append(row[1])\n",
    "        #print(row[0],row[1])"
   ]
  },
  {
   "cell_type": "code",
   "execution_count": 8,
   "id": "da1fb1a5",
   "metadata": {},
   "outputs": [
    {
     "name": "stdout",
     "output_type": "stream",
     "text": [
      "Total number of months included in the dataset: 86\n"
     ]
    }
   ],
   "source": [
    "#Calculate the total revenue over the entire period\n",
    "\n",
    "row_count = len(date)\n",
    "print(\"Total number of months included in the dataset: \" + str(row_count))"
   ]
  },
  {
   "cell_type": "code",
   "execution_count": 9,
   "id": "40fee777",
   "metadata": {},
   "outputs": [
    {
     "name": "stdout",
     "output_type": "stream",
     "text": [
      "The net total amount of Profit/Losses over the entire period: 22564198.0\n"
     ]
    }
   ],
   "source": [
    "#The net total amount of \"Profit/Losses\" over the entire period\n",
    "\n",
    "pl_cleaned = [float(amount) for amount in pl]\n",
    "\n",
    "net_total = sum(pl_cleaned)\n",
    "\n",
    "print(\"The net total amount of Profit/Losses over the entire period: \" + str(net_total))"
   ]
  },
  {
   "cell_type": "code",
   "execution_count": 10,
   "id": "75d16633",
   "metadata": {},
   "outputs": [
    {
     "name": "stdout",
     "output_type": "stream",
     "text": [
      "The average of those changes: -8311.105882352942\n"
     ]
    }
   ],
   "source": [
    "#The changes in \"Profit/Losses\" over the entire period, and then the average of those changes\n",
    "\n",
    "changes = [pl_cleaned[i + 1] - pl_cleaned[i] for i in range(len(pl_cleaned)-1)]\n",
    "\n",
    "average = sum(changes) / len(changes)\n",
    "\n",
    "print(\"The average of those changes: \" + str(average))"
   ]
  },
  {
   "cell_type": "code",
   "execution_count": 11,
   "id": "29e0053f",
   "metadata": {},
   "outputs": [
    {
     "name": "stdout",
     "output_type": "stream",
     "text": [
      "The greatest increase in profits (date and amount) over the entire period: 1862002.0\n"
     ]
    }
   ],
   "source": [
    "#The greatest increase in profits (date and amount) over the entire period\n",
    "\n",
    "greatest = max(changes)\n",
    "\n",
    "print(\"The greatest increase in profits (date and amount) over the entire period: \" + str(greatest))"
   ]
  },
  {
   "cell_type": "code",
   "execution_count": 12,
   "id": "7ba0e73e",
   "metadata": {},
   "outputs": [
    {
     "name": "stdout",
     "output_type": "stream",
     "text": [
      "The greatest decrease in profits (date and amount) over the entire period: -1825558.0\n"
     ]
    }
   ],
   "source": [
    "#The greatest decrease in profits (date and amount) over the entire period\n",
    "\n",
    "decrease = min(changes)\n",
    "\n",
    "print(\"The greatest decrease in profits (date and amount) over the entire period: \" + str(decrease))"
   ]
  },
  {
   "cell_type": "code",
   "execution_count": null,
   "id": "7e998b94",
   "metadata": {},
   "outputs": [],
   "source": []
  },
  {
   "cell_type": "code",
   "execution_count": null,
   "id": "b4cee2f4",
   "metadata": {},
   "outputs": [],
   "source": []
  }
 ],
 "metadata": {
  "kernelspec": {
   "display_name": "Python 3 (ipykernel)",
   "language": "python",
   "name": "python3"
  },
  "language_info": {
   "codemirror_mode": {
    "name": "ipython",
    "version": 3
   },
   "file_extension": ".py",
   "mimetype": "text/x-python",
   "name": "python",
   "nbconvert_exporter": "python",
   "pygments_lexer": "ipython3",
   "version": "3.11.5"
  }
 },
 "nbformat": 4,
 "nbformat_minor": 5
}
